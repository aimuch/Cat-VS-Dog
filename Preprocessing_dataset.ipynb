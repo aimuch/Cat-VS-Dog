{
 "cells": [
  {
   "cell_type": "markdown",
   "metadata": {},
   "source": [
    "# 1、导入库、定义函数"
   ]
  },
  {
   "cell_type": "code",
   "execution_count": 4,
   "metadata": {},
   "outputs": [],
   "source": [
    "# -*- coding=UTF-8 -*-\n",
    "import os\n",
    "import shutil\n",
    "from tqdm import tqdm\n",
    "from urllib.request import urlretrieve\n",
    "\n",
    "IF_MKDIR = 0   # 创建的文件夹是否覆盖原来的\n",
    "\n",
    "def rmdir_mkdir(dirname):\n",
    "    '''创建文件夹，若存在删除，重新创建\n",
    "    \n",
    "    Args:\n",
    "        dirname:文件夹名\n",
    "        \n",
    "    Returns:\n",
    "        None\n",
    "    '''\n",
    "    if os.path.exists(dirname) and IF_MKDIR:\n",
    "        shutil.rmtree(dirname) # 若存在则删除该文件夹（包括里面的内容\n",
    "    if IF_MKDIR:\n",
    "        os.mkdir(dirname)\n",
    "\n",
    "vgg_dir = 'tensorflow_vgg/'\n",
    "# 创建VGG文件夹\n",
    "rmdir_mkdir(vgg_dir)\n",
    "\n",
    "class DLProgress(tqdm):  \n",
    "    '''进度条类，继承自tqdm\n",
    "    '''\n",
    "    last_block = 0\n",
    "\n",
    "    def hook(self, block_num=1, block_size=1, total_size=None):\n",
    "        self.total = total_size\n",
    "        self.update((block_num - self.last_block) * block_size)\n",
    "        self.last_block = block_num"
   ]
  },
  {
   "cell_type": "markdown",
   "metadata": {},
   "source": [
    "# 2、下载数据、解压数据包"
   ]
  },
  {
   "cell_type": "code",
   "execution_count": 5,
   "metadata": {},
   "outputs": [],
   "source": [
    "import zipfile\n",
    "\n",
    "if not os.path.isfile('train.zip'):\n",
    "    with DLProgress(unit='B', unit_scale=True, miniters=1, desc='Andimal Dataset') as pbar:\n",
    "        urlretrieve('https://www.kaggle.com/c/dogs-vs-cats/download/train.zip',\n",
    "                    'train.zip',\n",
    "                    pbar.hook)\n",
    "if not os.path.isfile('train.zip'):\n",
    "    with DLProgress(unit='B', unit_scale=True, miniters=1, desc='Andimal Dataset') as pbar:\n",
    "        urlretrieve('https://www.kaggle.com/c/dogs-vs-cats/download/test1.zip',\n",
    "                    'test1.zip',\n",
    "                    pbar.hook)\n",
    "\n",
    "if not os.path.isdir(\"train\"):\n",
    "    with zipfile.ZipFile('train.zip') as zipp:\n",
    "        zipp.extractall()\n",
    "        zipp.close()\n",
    "        \n",
    "if not os.path.isdir(\"hello\"):\n",
    "    with zipfile.ZipFile('test1.zip') as zipp:\n",
    "        zipp.extractall()\n",
    "        zipp.close()"
   ]
  }
 ],
 "metadata": {
  "kernelspec": {
   "display_name": "Python 3",
   "language": "python",
   "name": "python3"
  }
 },
 "nbformat": 4,
 "nbformat_minor": 2
}
